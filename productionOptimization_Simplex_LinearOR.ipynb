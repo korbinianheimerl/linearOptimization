{
 "cells": [
  {
   "cell_type": "code",
   "execution_count": 1,
   "metadata": {},
   "outputs": [
    {
     "name": "stdout",
     "output_type": "stream",
     "text": [
      "Requirement already satisfied: docplex in c:\\users\\koanh\\appdata\\local\\packages\\pythonsoftwarefoundation.python.3.10_qbz5n2kfra8p0\\localcache\\local-packages\\python310\\site-packages (2.23.222)\n",
      "Requirement already satisfied: six in c:\\users\\koanh\\appdata\\local\\packages\\pythonsoftwarefoundation.python.3.10_qbz5n2kfra8p0\\localcache\\local-packages\\python310\\site-packages (from docplex) (1.16.0)\n",
      "Note: you may need to restart the kernel to use updated packages.\n"
     ]
    }
   ],
   "source": [
    "#%pip install docplex\n",
    "from docplex.mp.model import Model\n",
    "\n",
    "import numpy as np\n",
    "import scipy as sp"
   ]
  },
  {
   "cell_type": "code",
   "execution_count": 2,
   "metadata": {},
   "outputs": [],
   "source": [
    "m = Model(name='unit allocation')"
   ]
  },
  {
   "cell_type": "markdown",
   "metadata": {},
   "source": [
    "Varibales"
   ]
  },
  {
   "cell_type": "code",
   "execution_count": 3,
   "metadata": {},
   "outputs": [],
   "source": [
    "#production variables\n",
    "foldyphone = m.continuous_var(name='foldyphone')\n",
    "tinyphone = m.continuous_var(name='tinyphone')\n",
    "#time constraints\n",
    "foldyphonetime = 1.5\n",
    "tinyphonetime = 2\n",
    "#revenue\n",
    "foldyphoneprice = 900\n",
    "tinyphoneprice = 1100"
   ]
  },
  {
   "cell_type": "markdown",
   "metadata": {},
   "source": [
    "Constraints"
   ]
  },
  {
   "cell_type": "code",
   "execution_count": 4,
   "metadata": {},
   "outputs": [],
   "source": [
    "#at least produce 500 foldy\n",
    "foldyphoneprod = m.add_constraint(foldyphone >= 500)\n",
    "#at least produce 200 tiny\n",
    "tinyphoneprod = m.add_constraint(tinyphone >= 200)\n",
    "#grand scheme constraint\n",
    "totalprod = m.add_constraint(m.sum([tinyphone*tinyphonetime, foldyphone*foldyphonetime]) <= 2999.5)"
   ]
  },
  {
   "cell_type": "markdown",
   "metadata": {},
   "source": [
    "Goals"
   ]
  },
  {
   "cell_type": "code",
   "execution_count": 5,
   "metadata": {},
   "outputs": [],
   "source": [
    "m.maximize(foldyphone*foldyphoneprice + tinyphone*tinyphoneprice)"
   ]
  },
  {
   "cell_type": "markdown",
   "metadata": {},
   "source": [
    "Solution"
   ]
  },
  {
   "cell_type": "code",
   "execution_count": 6,
   "metadata": {},
   "outputs": [
    {
     "name": "stdout",
     "output_type": "stream",
     "text": [
      "solution for: unit allocation\n",
      "objective: 1779700.000\n",
      "foldyphone = 1733.000\n",
      "tinyphone = 200.000\n"
     ]
    },
    {
     "data": {
      "text/plain": [
       "1733.0"
      ]
     },
     "execution_count": 6,
     "metadata": {},
     "output_type": "execute_result"
    }
   ],
   "source": [
    "sol = m.solve()\n",
    "sol.display()\n",
    "tinyphone.solution_value\n",
    "foldyphone.solution_value"
   ]
  },
  {
   "cell_type": "markdown",
   "metadata": {},
   "source": [
    "Simplex Algorithm"
   ]
  },
  {
   "cell_type": "code",
   "execution_count": 7,
   "metadata": {},
   "outputs": [
    {
     "name": "stdout",
     "output_type": "stream",
     "text": [
      "Optimization terminated successfully.\n",
      "         Current function value: -36.000000  \n",
      "         Iterations: 3\n",
      "     con: array([], dtype=float64)\n",
      "     fun: -36.0\n",
      " message: 'Optimization terminated successfully.'\n",
      "     nit: 3\n",
      "   slack: array([2., 0., 0.])\n",
      "  status: 0\n",
      " success: True\n",
      "       x: array([2., 6.])\n"
     ]
    },
    {
     "name": "stderr",
     "output_type": "stream",
     "text": [
      "C:\\Users\\koanh\\AppData\\Local\\Temp\\ipykernel_17716\\647321805.py:21: DeprecationWarning: `method='simplex'` is deprecated and will be removed in SciPy 1.11.0. Please use one of the HiGHS solvers (e.g. `method='highs'`) in new code.\n",
      "  res = linprog(c, A_ub=A, b_ub=b,  bounds=(x0_bounds, x1_bounds), method='simplex', options={\"disp\": True})\n"
     ]
    }
   ],
   "source": [
    "\"\"\"\n",
    "Maximize Z = 3x1 + 5x2\n",
    "s.t. \n",
    "x1      <=4\n",
    "    2x2 <=12\n",
    "3x1+2x2 <=18\n",
    "\"\"\"\n",
    "\n",
    "\n",
    "#Z\n",
    "c = [-3, -5]\n",
    "#constraints left side\n",
    "A = [[1, 0], [0, 2], [3, 2]]\n",
    "#constraints right side\n",
    "b = [4, 12, 18]\n",
    "x0_bounds = (0, None)\n",
    "x1_bounds = (0, None)\n",
    "\n",
    "from scipy.optimize import linprog\n",
    "# Solve the problem by Simplex method in Optimization\n",
    "res = linprog(c, A_ub=A, b_ub=b,  bounds=(x0_bounds, x1_bounds), method='simplex', options={\"disp\": True})\n",
    "print(res)\n",
    "#result = x: array [x1 = 2., x2=6.]"
   ]
  },
  {
   "cell_type": "markdown",
   "metadata": {},
   "source": []
  },
  {
   "cell_type": "markdown",
   "metadata": {},
   "source": [
    "OR Tools: find amount of scoops of supplements for physical exercise given a preferred mixture"
   ]
  },
  {
   "cell_type": "code",
   "execution_count": 1,
   "metadata": {},
   "outputs": [
    {
     "name": "stdout",
     "output_type": "stream",
     "text": [
      "Number of variables = 2\n",
      "Number of constraints = 1\n",
      "Solution:\n",
      "Objective value = 4.0\n",
      "Creatine scoops = 1.0\n",
      "Amino acid scoops = 1.0\n"
     ]
    }
   ],
   "source": [
    "#%pip install ortools\n",
    "from ortools.linear_solver import pywraplp\n",
    "from ortools.init import pywrapinit\n",
    "\n",
    "\n",
    "\n",
    "\n",
    "def main():\n",
    "    # Create the linear solver with the GLOP backend.\n",
    "    solver = pywraplp.Solver.CreateSolver('GLOP')\n",
    "    if not solver:\n",
    "        return\n",
    "\n",
    "    # Create the variables x=creatine and y=amino acids.\n",
    "    x = solver.NumVar(0, 1, 'x')\n",
    "    y = solver.NumVar(0, 2, 'y')\n",
    "\n",
    "    print('Number of variables =', solver.NumVariables())\n",
    "\n",
    "    # Create a linear constraint, 0 <= x + y <= 0.\n",
    "    ct = solver.Constraint(1, 2, 'ct')\n",
    "    ct.SetCoefficient(x, 1)\n",
    "    ct.SetCoefficient(y, 1)\n",
    "\n",
    "    print('Number of constraints =', solver.NumConstraints())\n",
    "\n",
    "    # Create the objective function, 3 * x + y.\n",
    "    objective = solver.Objective()\n",
    "    objective.SetCoefficient(x, 3)\n",
    "    objective.SetCoefficient(y, 1)\n",
    "    objective.SetMaximization()\n",
    "\n",
    "    solver.Solve()\n",
    "\n",
    "    print('Solution:')\n",
    "    print('Objective value =', objective.Value())\n",
    "    print('Creatine scoops =', x.solution_value())\n",
    "    print('Amino acid scoops =', y.solution_value())\n",
    "\n",
    "\n",
    "if __name__ == '__main__':\n",
    "    pywrapinit.CppBridge.InitLogging('basic_example.py')\n",
    "    cpp_flags = pywrapinit.CppFlags()\n",
    "    cpp_flags.logtostderr = True\n",
    "    cpp_flags.log_prefix = False\n",
    "    pywrapinit.CppBridge.SetFlags(cpp_flags)\n",
    "\n",
    "    main()"
   ]
  },
  {
   "cell_type": "code",
   "execution_count": null,
   "metadata": {},
   "outputs": [],
   "source": []
  }
 ],
 "metadata": {
  "kernelspec": {
   "display_name": "Python 3.10.8 64-bit (microsoft store)",
   "language": "python",
   "name": "python3"
  },
  "language_info": {
   "codemirror_mode": {
    "name": "ipython",
    "version": 3
   },
   "file_extension": ".py",
   "mimetype": "text/x-python",
   "name": "python",
   "nbconvert_exporter": "python",
   "pygments_lexer": "ipython3",
   "version": "3.10.8"
  },
  "orig_nbformat": 4,
  "vscode": {
   "interpreter": {
    "hash": "82d5c7181fc9a6a5f4e8b64c6ae808a07bb6ca82beeeb65d60eca0f87f94f4c9"
   }
  }
 },
 "nbformat": 4,
 "nbformat_minor": 2
}
